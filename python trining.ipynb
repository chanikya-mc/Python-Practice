{
 "cells": [
  {
   "cell_type": "markdown",
   "id": "39e94d71",
   "metadata": {},
   "source": [
    "# lets begin"
   ]
  },
  {
   "cell_type": "code",
   "execution_count": 1,
   "id": "05109681",
   "metadata": {},
   "outputs": [
    {
     "name": "stdout",
     "output_type": "stream",
     "text": [
      "hi how are you\n"
     ]
    }
   ],
   "source": [
    "print(\"hi\",end=\" \")\n",
    "print(\"how are you\")"
   ]
  },
  {
   "cell_type": "code",
   "execution_count": 2,
   "id": "11e4c6d8",
   "metadata": {},
   "outputs": [
    {
     "name": "stdout",
     "output_type": "stream",
     "text": [
      "value of a is: 10\n"
     ]
    }
   ],
   "source": [
    "a=10\n",
    "print(\"value of a is:\",a)"
   ]
  },
  {
   "cell_type": "code",
   "execution_count": 3,
   "id": "110a723a",
   "metadata": {},
   "outputs": [
    {
     "name": "stdout",
     "output_type": "stream",
     "text": [
      "hi\n",
      "hi\n",
      "hi\n",
      "hi\n",
      "hi\n",
      "hi\n",
      "hi\n",
      "hi\n",
      "hi\n",
      "hi\n",
      "\n"
     ]
    }
   ],
   "source": [
    "print(\"hi\\n\"*10)"
   ]
  },
  {
   "cell_type": "code",
   "execution_count": 4,
   "id": "b6a0a2c4",
   "metadata": {},
   "outputs": [
    {
     "name": "stdout",
     "output_type": "stream",
     "text": [
      "1\n",
      "1\n",
      "2\n",
      "3\n",
      "5\n",
      "8\n",
      "13\n"
     ]
    }
   ],
   "source": [
    "a,b=0,1\n",
    "while b<20:\n",
    "    print(b)\n",
    "    a,b=b,a+b\n",
    "    "
   ]
  },
  {
   "cell_type": "code",
   "execution_count": 5,
   "id": "9fb354d5",
   "metadata": {},
   "outputs": [
    {
     "name": "stdout",
     "output_type": "stream",
     "text": [
      "0\n",
      "1\n",
      "2\n",
      "3\n",
      "4\n",
      "5\n",
      "6\n",
      "7\n",
      "8\n",
      "9\n",
      "10\n",
      "11\n",
      "12\n",
      "13\n",
      "14\n",
      "15\n",
      "16\n",
      "17\n",
      "18\n",
      "19\n"
     ]
    }
   ],
   "source": [
    "for i in range(20):\n",
    "    print(i)"
   ]
  },
  {
   "cell_type": "code",
   "execution_count": 6,
   "id": "56018134",
   "metadata": {},
   "outputs": [],
   "source": [
    "for i in range(2,20,-1):\n",
    "    print(i)"
   ]
  },
  {
   "cell_type": "code",
   "execution_count": 7,
   "id": "37823d9a",
   "metadata": {},
   "outputs": [
    {
     "name": "stdout",
     "output_type": "stream",
     "text": [
      "200\n",
      "195\n",
      "190\n",
      "185\n",
      "180\n",
      "175\n",
      "170\n",
      "165\n",
      "160\n",
      "155\n",
      "150\n",
      "145\n",
      "140\n",
      "135\n",
      "130\n",
      "125\n",
      "120\n",
      "115\n",
      "110\n",
      "105\n",
      "100\n",
      "95\n",
      "90\n",
      "85\n",
      "80\n",
      "75\n",
      "70\n",
      "65\n",
      "60\n",
      "55\n",
      "50\n",
      "45\n",
      "40\n",
      "35\n",
      "30\n",
      "25\n"
     ]
    }
   ],
   "source": [
    "for i in range(200,20,-5):\n",
    "    print(i)"
   ]
  },
  {
   "cell_type": "code",
   "execution_count": 8,
   "id": "184a5744",
   "metadata": {},
   "outputs": [
    {
     "name": "stdout",
     "output_type": "stream",
     "text": [
      "2\n",
      "7\n",
      "12\n",
      "17\n"
     ]
    }
   ],
   "source": [
    "for i in range(2,20,5):\n",
    "    print(i)"
   ]
  },
  {
   "cell_type": "code",
   "execution_count": 9,
   "id": "a2a20b6a",
   "metadata": {},
   "outputs": [
    {
     "name": "stdout",
     "output_type": "stream",
     "text": [
      "20\n",
      "18\n",
      "16\n",
      "14\n",
      "12\n",
      "10\n",
      "8\n",
      "6\n",
      "4\n"
     ]
    }
   ],
   "source": [
    "a=20\n",
    "while a!=2 and a%2==0:\n",
    "    print(a)\n",
    "    a-=2"
   ]
  },
  {
   "cell_type": "code",
   "execution_count": 11,
   "id": "5235e2ee",
   "metadata": {},
   "outputs": [
    {
     "name": "stdout",
     "output_type": "stream",
     "text": [
      "5\n",
      "4\n",
      "3\n",
      "2\n",
      "1\n"
     ]
    }
   ],
   "source": [
    "a=10\n",
    "while a<=10 and a>0 :\n",
    "    if a<=5 and a>0:\n",
    "        print(a)\n",
    "    a=a-1\n",
    "    "
   ]
  },
  {
   "cell_type": "code",
   "execution_count": 14,
   "id": "385d353f",
   "metadata": {},
   "outputs": [
    {
     "name": "stdout",
     "output_type": "stream",
     "text": [
      "the valus of a: 10 \n",
      "the value of b: 20 \n",
      "sum of a+b is : 30\n"
     ]
    }
   ],
   "source": [
    "a=10\n",
    "b=20\n",
    "s=a+b\n",
    "print(\"the valus of a:\",a,\"\\nthe value of b:\",b,\"\\nsum of a+b is :\",s)"
   ]
  },
  {
   "cell_type": "code",
   "execution_count": 18,
   "id": "cae07f1f",
   "metadata": {},
   "outputs": [
    {
     "name": "stdout",
     "output_type": "stream",
     "text": [
      "6\n",
      "80\n",
      "chnaikya\n",
      "chnaikya\n",
      "chnaikya\n",
      "chnaikya\n",
      "chnaikya\n",
      "chnaikya\n",
      "chnaikya\n",
      "chnaikya\n",
      "chnaikya\n",
      "chnaikya\n",
      "chnaikya\n",
      "chnaikya\n",
      "chnaikya\n",
      "chnaikya\n",
      "chnaikya\n",
      "chnaikya\n",
      "chnaikya\n",
      "chnaikya\n",
      "chnaikya\n",
      "chnaikya\n",
      "chnaikya\n",
      "chnaikya\n",
      "chnaikya\n",
      "chnaikya\n",
      "chnaikya\n",
      "chnaikya\n",
      "chnaikya\n",
      "chnaikya\n",
      "chnaikya\n",
      "chnaikya\n",
      "chnaikya\n",
      "chnaikya\n",
      "chnaikya\n",
      "chnaikya\n",
      "chnaikya\n",
      "chnaikya\n",
      "chnaikya\n",
      "chnaikya\n",
      "chnaikya\n",
      "chnaikya\n",
      "chnaikya\n",
      "chnaikya\n",
      "chnaikya\n",
      "chnaikya\n",
      "chnaikya\n",
      "chnaikya\n",
      "chnaikya\n",
      "chnaikya\n",
      "chnaikya\n",
      "chnaikya\n",
      "chnaikya\n",
      "chnaikya\n",
      "chnaikya\n",
      "chnaikya\n",
      "chnaikya\n",
      "chnaikya\n",
      "chnaikya\n",
      "chnaikya\n",
      "chnaikya\n",
      "chnaikya\n",
      "chnaikya\n",
      "chnaikya\n",
      "chnaikya\n",
      "chnaikya\n",
      "chnaikya\n",
      "chnaikya\n",
      "chnaikya\n",
      "chnaikya\n",
      "chnaikya\n",
      "chnaikya\n",
      "chnaikya\n",
      "chnaikya\n",
      "chnaikya\n",
      "chnaikya\n"
     ]
    }
   ],
   "source": [
    "def chani(x,y):\n",
    "    for i in range(x,y):\n",
    "        \n",
    "        print(\"chnaikya\")\n",
    "a=int(input())\n",
    "b=int(input())\n",
    "chani(a,b)\n",
    "    "
   ]
  },
  {
   "cell_type": "code",
   "execution_count": 19,
   "id": "5d8e2154",
   "metadata": {},
   "outputs": [
    {
     "name": "stdout",
     "output_type": "stream",
     "text": [
      "aykinahc\n"
     ]
    }
   ],
   "source": [
    "a=\"chanikya\"\n",
    "r=\"\".join(reversed(a))\n",
    "print(r)"
   ]
  },
  {
   "cell_type": "code",
   "execution_count": 22,
   "id": "e67ac076",
   "metadata": {},
   "outputs": [
    {
     "name": "stdout",
     "output_type": "stream",
     "text": [
      "c\n",
      "h\n",
      "a\n",
      "n\n",
      "i\n",
      "k\n",
      "y\n",
      "a\n",
      "m\n",
      "c\n",
      " \n",
      "l\n",
      "o\n",
      "v\n",
      "e\n",
      "s\n",
      " \n",
      "y\n",
      "p\n",
      "u\n"
     ]
    }
   ],
   "source": [
    "s=\"\"\n",
    "for i in \"chanikyamc loves ypu\":\n",
    "    s=s.join(i)\n",
    "    print(s)"
   ]
  },
  {
   "cell_type": "code",
   "execution_count": 28,
   "id": "72c4da47",
   "metadata": {},
   "outputs": [
    {
     "name": "stdout",
     "output_type": "stream",
     "text": [
      "130\n",
      "100\n"
     ]
    }
   ],
   "source": [
    "def add(a,b):\n",
    "    return a+b+100\n",
    "x=add(10,20)\n",
    "print(x)\n",
    "y=add(0,0)\n",
    "print(y)"
   ]
  },
  {
   "cell_type": "code",
   "execution_count": 50,
   "id": "df70aa93",
   "metadata": {},
   "outputs": [
    {
     "name": "stdout",
     "output_type": "stream",
     "text": [
      "6\n",
      "given number 6 is Not a prime number\n"
     ]
    }
   ],
   "source": [
    "x=int(input())\n",
    "c=0\n",
    "for i in range(1,x+1):\n",
    "    if x%i==0:\n",
    "        c=c+1\n",
    "if c<=2:\n",
    "    print(\"given number %d prime number\"%x)\n",
    "else:\n",
    "    print(\"given number %d is Not a prime number\"%x)\n",
    "    "
   ]
  },
  {
   "cell_type": "code",
   "execution_count": 59,
   "id": "9dfe340e",
   "metadata": {},
   "outputs": [
    {
     "name": "stdout",
     "output_type": "stream",
     "text": [
      "3\n",
      "given number 3 prime number\n"
     ]
    }
   ],
   "source": [
    "\n",
    "def prime(x):\n",
    "    c=0\n",
    "    for i in range(1,x+2):\n",
    "        if x%i==0:\n",
    "            c=c+1\n",
    "    return c\n",
    "a=int(input())\n",
    "r=prime(a)\n",
    "if r<=2:\n",
    "    print(\"given number %d prime number\"%a)\n",
    "else:\n",
    "    print(\"given number %d is Not a prime number\"%a)\n",
    "        "
   ]
  },
  {
   "cell_type": "code",
   "execution_count": 68,
   "id": "67c90bfa",
   "metadata": {},
   "outputs": [
    {
     "name": "stdout",
     "output_type": "stream",
     "text": [
      "7\n",
      "Given number 7 is not a prime number\n"
     ]
    }
   ],
   "source": [
    "def prime(x):\n",
    "    c = 0\n",
    "    for i in range(1, x + 1):\n",
    "        if x % i == 0:\n",
    "            c = c + 1\n",
    "    return c\n",
    "\n",
    "a =int(input())\n",
    "b=prime(a)\n",
    "if c==2:\n",
    "    print(\"Given number %d is a prime number\" % a)\n",
    "else:\n",
    "    print(f\"Given number {a} is not a prime number\" )\n"
   ]
  },
  {
   "cell_type": "code",
   "execution_count": 1,
   "id": "11d7b06c",
   "metadata": {},
   "outputs": [
    {
     "name": "stdout",
     "output_type": "stream",
     "text": [
      "40\n",
      "1\n",
      "1\n",
      "2\n",
      "3\n",
      "5\n",
      "8\n",
      "13\n",
      "21\n",
      "34\n"
     ]
    }
   ],
   "source": [
    "a,b=0,1\n",
    "limit=int(input())\n",
    "while b<limit:\n",
    "    print(b)\n",
    "    a,b=b,a+b\n",
    "    "
   ]
  },
  {
   "cell_type": "code",
   "execution_count": 3,
   "id": "e7068320",
   "metadata": {},
   "outputs": [
    {
     "name": "stdout",
     "output_type": "stream",
     "text": [
      "1 2 3 5 8 13 21 34 55 89 144 233 377 610 987 1597 2584 4181 6765 10946 "
     ]
    }
   ],
   "source": [
    "a,b=0,1\n",
    "n=20\n",
    "for i in range(1,n+1):\n",
    "    c=a+b\n",
    "    print(c,end=\" \")\n",
    "    a=b\n",
    "    b=c"
   ]
  },
  {
   "cell_type": "code",
   "execution_count": 7,
   "id": "1e4428fc",
   "metadata": {},
   "outputs": [
    {
     "name": "stdout",
     "output_type": "stream",
     "text": [
      "1 2 3 5 8 13 21 34 55 89 144 233 377 610 987 1597 2584 4181 6765 10946 "
     ]
    }
   ],
   "source": [
    "def mc(n):\n",
    "    \n",
    "    a=0\n",
    "    b=1\n",
    "    for i in range(1,n+1):\n",
    "        c=a+b\n",
    "        print(c,end=\" \")\n",
    "        a=b\n",
    "        b=c\n",
    "mc(20)"
   ]
  },
  {
   "cell_type": "code",
   "execution_count": 10,
   "id": "f608ff35",
   "metadata": {},
   "outputs": [
    {
     "name": "stdout",
     "output_type": "stream",
     "text": [
      "1\n"
     ]
    }
   ],
   "source": [
    "def mc(n):\n",
    "    \n",
    "    a=0\n",
    "    b=1\n",
    "    for i in range(1,n+1):\n",
    "        c=a+b\n",
    "        a=b\n",
    "        b=c\n",
    "        return c\n",
    "       \n",
    "x=mc(20)\n",
    "print(x)\n",
    "\n"
   ]
  },
  {
   "cell_type": "code",
   "execution_count": 11,
   "id": "112a684b",
   "metadata": {},
   "outputs": [
    {
     "name": "stdout",
     "output_type": "stream",
     "text": [
      "5\n",
      "24\n"
     ]
    }
   ],
   "source": [
    "x=int(input())\n",
    "s=1\n",
    "for i in range(1,x):\n",
    "    s=s*i\n",
    "print(s)"
   ]
  },
  {
   "cell_type": "code",
   "execution_count": 16,
   "id": "8193335c",
   "metadata": {},
   "outputs": [
    {
     "data": {
      "text/plain": [
       "120"
      ]
     },
     "execution_count": 16,
     "metadata": {},
     "output_type": "execute_result"
    }
   ],
   "source": [
    "def fib(n):\n",
    "    if(n==0 or n==1):\n",
    "        return 1\n",
    "    else:\n",
    "        return n*fib(n-1)\n",
    "fib(5)"
   ]
  },
  {
   "cell_type": "code",
   "execution_count": 17,
   "id": "4571f798",
   "metadata": {},
   "outputs": [
    {
     "name": "stdout",
     "output_type": "stream",
     "text": [
      "{1: 'chaniya', 2: 'jai', 3: 'oops', 4: 'purush', 5: 'seenu'}\n"
     ]
    }
   ],
   "source": [
    "d={1:\"chaniya\",2:\"jai\",3:\"oops\",4:\"purush\",5:\"seenu\"}\n",
    "print(d)"
   ]
  },
  {
   "cell_type": "code",
   "execution_count": 18,
   "id": "4a2c2e9b",
   "metadata": {},
   "outputs": [
    {
     "name": "stdout",
     "output_type": "stream",
     "text": [
      "chaniya\n",
      "jai\n",
      "oops\n",
      "purush\n",
      "seenu\n"
     ]
    }
   ],
   "source": [
    "for i in d:\n",
    "    print(d[i])"
   ]
  },
  {
   "cell_type": "code",
   "execution_count": 19,
   "id": "ffa70b1a",
   "metadata": {},
   "outputs": [
    {
     "name": "stdout",
     "output_type": "stream",
     "text": [
      "1 chaniya\n",
      "2 jai\n",
      "3 oops\n",
      "4 purush\n",
      "5 seenu\n"
     ]
    }
   ],
   "source": [
    "for x,y in d.items():\n",
    "    print(x,y)"
   ]
  },
  {
   "cell_type": "code",
   "execution_count": 35,
   "id": "9c7685e7",
   "metadata": {},
   "outputs": [
    {
     "name": "stdout",
     "output_type": "stream",
     "text": [
      "5\n",
      "* \n",
      "* * \n",
      "* * * \n",
      "* * * * \n",
      "* * * * * \n"
     ]
    }
   ],
   "source": [
    "x=int(input())\n",
    "for i in range(x):\n",
    "    for j in range(i+1):\n",
    "        print(\"*\",end=\" \")\n",
    "    print()"
   ]
  },
  {
   "cell_type": "code",
   "execution_count": 39,
   "id": "eaf8cf3e",
   "metadata": {},
   "outputs": [
    {
     "name": "stdout",
     "output_type": "stream",
     "text": [
      "5\n",
      "* * * * * \n",
      "* * * * \n",
      "* * * \n",
      "* * \n",
      "* \n"
     ]
    }
   ],
   "source": [
    "x=int(input())\n",
    "for i in range(x):\n",
    "    for j in range(x-i):\n",
    "        print(\"*\",end=\" \")\n",
    "    print()"
   ]
  },
  {
   "cell_type": "code",
   "execution_count": 41,
   "id": "33343def",
   "metadata": {},
   "outputs": [
    {
     "name": "stdout",
     "output_type": "stream",
     "text": [
      "5\n",
      "          * \n",
      "        * * \n",
      "      * * * \n",
      "    * * * * \n",
      "  * * * * * \n"
     ]
    }
   ],
   "source": [
    "x=int(input())\n",
    "for i in range(x):\n",
    "    for j in range(x-i):\n",
    "        print(\"\",end=\" \")\n",
    "    for j in range(i+1):\n",
    "        print(\"*\",end=\" \")\n",
    "        \n",
    "    print()"
   ]
  },
  {
   "cell_type": "code",
   "execution_count": 42,
   "id": "07cc6e16",
   "metadata": {},
   "outputs": [
    {
     "name": "stdout",
     "output_type": "stream",
     "text": [
      "5\n",
      "* * * * *   \n",
      "* * * *     \n",
      "* * *       \n",
      "* *         \n",
      "*           \n"
     ]
    }
   ],
   "source": [
    "x=int(input())\n",
    "for i in range(x):\n",
    "    for j in range(x-i):\n",
    "        print(\"*\",end=\" \")\n",
    "    for j in range(i+1):\n",
    "        print(\"*\",end=\" \")\n",
    "        \n",
    "    print()"
   ]
  },
  {
   "cell_type": "code",
   "execution_count": 44,
   "id": "11f9b646",
   "metadata": {},
   "outputs": [
    {
     "name": "stdout",
     "output_type": "stream",
     "text": [
      "5\n",
      "          * \n",
      "        * * * \n",
      "      * * * * * \n",
      "    * * * * * * * \n",
      "  * * * * * * * * * \n"
     ]
    }
   ],
   "source": [
    "x=int(input())\n",
    "for i in range(x):\n",
    "    for j in range(x-i):\n",
    "        print(\" \",end=\" \")\n",
    "    for j in range(i):\n",
    "        print(\"*\",end=\" \")\n",
    "    for j in range(i+1):\n",
    "        print(\"*\",end=\" \")\n",
    "        \n",
    "    print()"
   ]
  },
  {
   "cell_type": "code",
   "execution_count": 2,
   "id": "e7848e8f",
   "metadata": {},
   "outputs": [
    {
     "name": "stdout",
     "output_type": "stream",
     "text": [
      "AbCdEfGhIjKlMnOpQrStUvWxYz\n"
     ]
    }
   ],
   "source": [
    "s=\"ABCDEFGHIJKLMNOPQRSTUVWXYZ\"\n",
    "res=\"\"\n",
    "for i in range(len(s)):\n",
    "    if i%2!=0:\n",
    "        res+=s[i].lower()\n",
    "    else:\n",
    "        res+=s[i]\n",
    "print(res)"
   ]
  },
  {
   "cell_type": "code",
   "execution_count": 4,
   "id": "8d208800",
   "metadata": {},
   "outputs": [
    {
     "data": {
      "text/plain": [
       "16"
      ]
     },
     "execution_count": 4,
     "metadata": {},
     "output_type": "execute_result"
    }
   ],
   "source": [
    "def pow(n,x):\n",
    "    if(x==0):\n",
    "        return 1\n",
    "    else:\n",
    "        return (n*pow(n,x-1))\n",
    "pow(2,4)"
   ]
  },
  {
   "cell_type": "code",
   "execution_count": 5,
   "id": "4108c853",
   "metadata": {},
   "outputs": [
    {
     "data": {
      "text/plain": [
       "15"
      ]
     },
     "execution_count": 5,
     "metadata": {},
     "output_type": "execute_result"
    }
   ],
   "source": [
    "def sum1(n):\n",
    "    if n==0:\n",
    "        return 0\n",
    "    elif n==1:\n",
    "        return 1\n",
    "    else:\n",
    "        return n+sum1(n-1)\n",
    "sum1(5)"
   ]
  },
  {
   "cell_type": "code",
   "execution_count": 18,
   "id": "f9d8745c",
   "metadata": {},
   "outputs": [
    {
     "ename": "TypeError",
     "evalue": "chani() missing 1 required positional argument: 'd'",
     "output_type": "error",
     "traceback": [
      "\u001b[1;31m---------------------------------------------------------------------------\u001b[0m",
      "\u001b[1;31mTypeError\u001b[0m                                 Traceback (most recent call last)",
      "\u001b[1;32m<ipython-input-18-11ca016eadfb>\u001b[0m in \u001b[0;36m<module>\u001b[1;34m\u001b[0m\n\u001b[0;32m      3\u001b[0m \u001b[1;32mdef\u001b[0m \u001b[0mchani\u001b[0m\u001b[1;33m(\u001b[0m\u001b[0ma\u001b[0m\u001b[1;33m,\u001b[0m\u001b[0mb\u001b[0m\u001b[1;33m,\u001b[0m\u001b[0mc\u001b[0m\u001b[1;33m,\u001b[0m\u001b[0md\u001b[0m\u001b[1;33m)\u001b[0m\u001b[1;33m:\u001b[0m\u001b[1;33m\u001b[0m\u001b[1;33m\u001b[0m\u001b[0m\n\u001b[0;32m      4\u001b[0m     \u001b[0mprint\u001b[0m\u001b[1;33m(\u001b[0m\u001b[0ma\u001b[0m\u001b[1;33m+\u001b[0m\u001b[0mb\u001b[0m\u001b[1;33m*\u001b[0m\u001b[0mc\u001b[0m\u001b[1;33m+\u001b[0m\u001b[0md\u001b[0m\u001b[1;33m)\u001b[0m\u001b[1;33m\u001b[0m\u001b[1;33m\u001b[0m\u001b[0m\n\u001b[1;32m----> 5\u001b[1;33m \u001b[0mchani\u001b[0m\u001b[1;33m(\u001b[0m\u001b[1;36m1\u001b[0m\u001b[1;33m,\u001b[0m\u001b[1;36m2\u001b[0m\u001b[1;33m,\u001b[0m\u001b[1;36m3\u001b[0m\u001b[1;33m)\u001b[0m\u001b[1;33m\u001b[0m\u001b[1;33m\u001b[0m\u001b[0m\n\u001b[0m",
      "\u001b[1;31mTypeError\u001b[0m: chani() missing 1 required positional argument: 'd'"
     ]
    }
   ],
   "source": [
    "def chani(a,b,c):\n",
    "    print(a+b*c)\n",
    "def chani(a,b,c,d):\n",
    "    print(a+b*c+d)\n",
    "chani(1,2,3)\n"
   ]
  },
  {
   "cell_type": "code",
   "execution_count": 38,
   "id": "b217e4ec",
   "metadata": {},
   "outputs": [
    {
     "name": "stdout",
     "output_type": "stream",
     "text": [
      "6\n",
      "12\n",
      "17.204\n"
     ]
    }
   ],
   "source": [
    "from multipledispatch import dispatch\n",
    "\n",
    "# passing one parameter\n",
    "\n",
    "\n",
    "@dispatch(int, int)\n",
    "def product(first, second):\n",
    "\tresult = first*second\n",
    "\tprint(result)\n",
    "\n",
    "# passing two parameters\n",
    "\n",
    "\n",
    "@dispatch(int, int, int)\n",
    "def product(first, second, third):\n",
    "\tresult = first * second * third\n",
    "\tprint(result)\n",
    "\n",
    "# you can also pass data type of any value as per requirement\n",
    "\n",
    "\n",
    "@dispatch(float, float, float)\n",
    "def product(first, second, third):\n",
    "\tresult = first * second * third\n",
    "\tprint(result)\n",
    "\n",
    "\n",
    "# calling product method with 2 arguments\n",
    "product(2, 3) # this will give output of 6\n",
    "\n",
    "# calling product method with 3 arguments but all int\n",
    "product(2, 3, 2) # this will give output of 12\n",
    "\n",
    "# calling product method with 3 arguments but all float\n",
    "product(2.2, 3.4, 2.3) # this will give output of 17.985999999999997\n"
   ]
  },
  {
   "cell_type": "code",
   "execution_count": 21,
   "id": "2567634c",
   "metadata": {},
   "outputs": [
    {
     "name": "stdout",
     "output_type": "stream",
     "text": [
      "[1, 2, 3, 4, 5, 7, 8]\n"
     ]
    }
   ],
   "source": [
    "l=[1,4,5,2,7,8,3]\n",
    "n=len(l)\n",
    "for i in range(0,n):\n",
    "    for j in range(0,n-1):\n",
    "        if l[j]>l[j+1]:\n",
    "            l[j],l[j+1]=l[j+1],l[j]\n",
    "print(l)\n",
    "            "
   ]
  },
  {
   "cell_type": "code",
   "execution_count": 36,
   "id": "965e5743",
   "metadata": {},
   "outputs": [
    {
     "name": "stdout",
     "output_type": "stream",
     "text": [
      "[1, 2, 3, 4, 5, 7, 8]\n"
     ]
    }
   ],
   "source": [
    "l=[1,4,5,2,7,8,3]\n",
    "n=len(l)\n",
    "s=True\n",
    "while (s):\n",
    "    for i in range(0,n):\n",
    "        s=False\n",
    "        for j in range(0,n-1):\n",
    "            if l[j]>l[j+1]:\n",
    "                l[j],l[j+1]=l[j+1],l[j]\n",
    "                s=True\n",
    "\n",
    "print(l)\n",
    "            "
   ]
  },
  {
   "cell_type": "code",
   "execution_count": 41,
   "id": "efa5d5a5",
   "metadata": {},
   "outputs": [],
   "source": [
    "\n",
    "from multipledispatch import dispatch as dp"
   ]
  },
  {
   "cell_type": "code",
   "execution_count": 46,
   "id": "68251032",
   "metadata": {},
   "outputs": [
    {
     "name": "stdout",
     "output_type": "stream",
     "text": [
      "[2, 3, 4, 29, 32, 32, 32, 34, 43, 453]\n"
     ]
    }
   ],
   "source": [
    "l=[29,3,4,34,453,43,2,32,32,32]\n",
    "l.sort()\n",
    "print(l)"
   ]
  },
  {
   "cell_type": "code",
   "execution_count": 58,
   "id": "3724a820",
   "metadata": {},
   "outputs": [
    {
     "name": "stdout",
     "output_type": "stream",
     "text": [
      "10 20\n",
      "20 10\n"
     ]
    }
   ],
   "source": [
    "l=[10,20,30,33]\n",
    "k=30\n",
    "for i in l:\n",
    "    d=k-i\n",
    "    if (d in l):\n",
    "        p                                                                                                                                                                                                                                                                                                                                                                                                                                                                                                                                                                                                                                                                                                                                                                                                                                         rint(i,d)\n",
    "                                                                                                                                                                                                                                                                                                                                                                                                                                                                                                                                                                                                                                                                                                                                                                                                                                                                                                                                                                                                                                                                                                 "
   ]
  },
  {
   "cell_type": "code",
   "execution_count": 75,
   "id": "a729ca91",
   "metadata": {},
   "outputs": [
    {
     "ename": "NameError",
     "evalue": "name 'name' is not defined",
     "output_type": "error",
     "traceback": [
      "\u001b[1;31m---------------------------------------------------------------------------\u001b[0m",
      "\u001b[1;31mNameError\u001b[0m                                 Traceback (most recent call last)",
      "\u001b[1;32m<ipython-input-75-c0c9c1196513>\u001b[0m in \u001b[0;36m<module>\u001b[1;34m\u001b[0m\n\u001b[0;32m      3\u001b[0m         \u001b[0ma\u001b[0m\u001b[1;33m.\u001b[0m\u001b[0mname\u001b[0m\u001b[1;33m=\u001b[0m\u001b[0mname\u001b[0m\u001b[1;33m\u001b[0m\u001b[1;33m\u001b[0m\u001b[0m\n\u001b[0;32m      4\u001b[0m         \u001b[0ma\u001b[0m\u001b[1;33m.\u001b[0m\u001b[0mage\u001b[0m\u001b[1;33m=\u001b[0m\u001b[0mage\u001b[0m\u001b[1;33m\u001b[0m\u001b[1;33m\u001b[0m\u001b[0m\n\u001b[1;32m----> 5\u001b[1;33m \u001b[1;32mclass\u001b[0m \u001b[0mchani\u001b[0m\u001b[1;33m(\u001b[0m\u001b[0mmc\u001b[0m\u001b[1;33m)\u001b[0m\u001b[1;33m:\u001b[0m\u001b[1;33m\u001b[0m\u001b[1;33m\u001b[0m\u001b[0m\n\u001b[0m\u001b[0;32m      6\u001b[0m     \u001b[0mname\u001b[0m\u001b[1;33m=\u001b[0m\u001b[0mname\u001b[0m\u001b[1;33m+\u001b[0m\u001b[1;34m\" hello\"\u001b[0m\u001b[1;33m\u001b[0m\u001b[1;33m\u001b[0m\u001b[0m\n\u001b[0;32m      7\u001b[0m \u001b[0mpl\u001b[0m\u001b[1;33m=\u001b[0m\u001b[0mmc\u001b[0m\u001b[1;33m(\u001b[0m\u001b[1;34m\"chanaikya\"\u001b[0m\u001b[1;33m,\u001b[0m\u001b[1;36m20\u001b[0m\u001b[1;33m)\u001b[0m\u001b[1;33m\u001b[0m\u001b[1;33m\u001b[0m\u001b[0m\n",
      "\u001b[1;32m<ipython-input-75-c0c9c1196513>\u001b[0m in \u001b[0;36mchani\u001b[1;34m()\u001b[0m\n\u001b[0;32m      4\u001b[0m         \u001b[0ma\u001b[0m\u001b[1;33m.\u001b[0m\u001b[0mage\u001b[0m\u001b[1;33m=\u001b[0m\u001b[0mage\u001b[0m\u001b[1;33m\u001b[0m\u001b[1;33m\u001b[0m\u001b[0m\n\u001b[0;32m      5\u001b[0m \u001b[1;32mclass\u001b[0m \u001b[0mchani\u001b[0m\u001b[1;33m(\u001b[0m\u001b[0mmc\u001b[0m\u001b[1;33m)\u001b[0m\u001b[1;33m:\u001b[0m\u001b[1;33m\u001b[0m\u001b[1;33m\u001b[0m\u001b[0m\n\u001b[1;32m----> 6\u001b[1;33m     \u001b[0mname\u001b[0m\u001b[1;33m=\u001b[0m\u001b[0mname\u001b[0m\u001b[1;33m+\u001b[0m\u001b[1;34m\" hello\"\u001b[0m\u001b[1;33m\u001b[0m\u001b[1;33m\u001b[0m\u001b[0m\n\u001b[0m\u001b[0;32m      7\u001b[0m \u001b[0mpl\u001b[0m\u001b[1;33m=\u001b[0m\u001b[0mmc\u001b[0m\u001b[1;33m(\u001b[0m\u001b[1;34m\"chanaikya\"\u001b[0m\u001b[1;33m,\u001b[0m\u001b[1;36m20\u001b[0m\u001b[1;33m)\u001b[0m\u001b[1;33m\u001b[0m\u001b[1;33m\u001b[0m\u001b[0m\n\u001b[0;32m      8\u001b[0m \u001b[1;33m\u001b[0m\u001b[0m\n",
      "\u001b[1;31mNameError\u001b[0m: name 'name' is not defined"
     ]
    }
   ],
   "source": [
    "class mc:\n",
    "    def __init__(a,name,age):\n",
    "        a.name=name\n",
    "        a.age=age\n",
    "class chani(mc):\n",
    "    name=name+\" hello\"\n",
    "pl=mc(\"chanaikya\",20)\n",
    "\n",
    "l=chani()\n",
    "print(l.name)\n",
    "print(l.age)\n"
   ]
  },
  {
   "cell_type": "code",
   "execution_count": 76,
   "id": "3acea3b9",
   "metadata": {},
   "outputs": [
    {
     "name": "stdout",
     "output_type": "stream",
     "text": [
      "Toyota 2016\n"
     ]
    }
   ],
   "source": [
    "class car:  \n",
    "    def __init__(self,modelname, year):  \n",
    "        self.modelname = modelname  \n",
    "        self.year = year  \n",
    "    def display(self):  \n",
    "        print(self.modelname,self.year)  \n",
    "  \n",
    "c1 = car(\"Toyota\", 2016)  \n",
    "c1.display() "
   ]
  },
  {
   "cell_type": "code",
   "execution_count": 78,
   "id": "cddda84d",
   "metadata": {},
   "outputs": [
    {
     "name": "stdout",
     "output_type": "stream",
     "text": [
      "chanikya\n",
      "20\n"
     ]
    }
   ],
   "source": [
    "class dj():\n",
    "    name=\"\"\n",
    "    age=0\n",
    "obj=dj()\n",
    "obj.name=\"chanikya\"\n",
    "obj.age=20\n",
    "print(obj.name)\n",
    "print(obj.age)"
   ]
  },
  {
   "cell_type": "code",
   "execution_count": 79,
   "id": "b13b62ca",
   "metadata": {},
   "outputs": [
    {
     "name": "stdout",
     "output_type": "stream",
     "text": [
      "chani\n",
      "99\n"
     ]
    }
   ],
   "source": [
    "ob=dj()\n",
    "obj.name=\"chani\"\n",
    "obj.age=99\n",
    "print(obj.name)\n",
    "print(obj.age)"
   ]
  },
  {
   "cell_type": "code",
   "execution_count": 102,
   "id": "fd836ce6",
   "metadata": {},
   "outputs": [
    {
     "name": "stdout",
     "output_type": "stream",
     "text": [
      "my name is chanikya\n",
      "my age is 22\n",
      "iam studying btech\n",
      "my salary is 76767\n"
     ]
    }
   ],
   "source": [
    "class demo:\n",
    "    def name(self):\n",
    "        print(\"my name is chanikya\")\n",
    "    def age(self):\n",
    "        print(\"my age is 22\")\n",
    "class demo1(demo):\n",
    "    def educ(self):\n",
    "        print(\"iam studying btech\")\n",
    "    def __init__(self,sall):\n",
    "        self.sall=sall\n",
    "    def sal(self):\n",
    "        print(\"my salary is %d\"%self.sall)\n",
    "obj=demo1(76767)\n",
    "obj.name()\n",
    "obj.age()\n",
    "obj.educ()\n",
    "obj.sal()"
   ]
  },
  {
   "cell_type": "code",
   "execution_count": 92,
   "id": "b880e65a",
   "metadata": {},
   "outputs": [
    {
     "name": "stdout",
     "output_type": "stream",
     "text": [
      "My salary is 76767\n",
      "My name is chanikya\n",
      "My age is 22\n",
      "I am studying btech\n",
      "76767\n"
     ]
    }
   ],
   "source": [
    "class demo:\n",
    "    def name(self):\n",
    "        print(\"My name is chanikya\")\n",
    "    \n",
    "    def age(self):\n",
    "        print(\"My age is 22\")\n",
    "\n",
    "class demo1(demo):\n",
    "    def educ(self):\n",
    "        print(\"I am studying btech\")\n",
    "    \n",
    "    def __init__(self, sall):\n",
    "        self.sall = sall\n",
    "        print(\"My salary is %d\" % self.sall)\n",
    "\n",
    "obj = demo1(76767)\n",
    "obj.name()\n",
    "obj.age()\n",
    "obj.educ()\n",
    "print(obj.sall)\n",
    "\n"
   ]
  },
  {
   "cell_type": "code",
   "execution_count": null,
   "id": "e43e24c2",
   "metadata": {},
   "outputs": [],
   "source": []
  },
  {
   "cell_type": "code",
   "execution_count": null,
   "id": "1a44c3de",
   "metadata": {},
   "outputs": [],
   "source": []
  },
  {
   "cell_type": "code",
   "execution_count": null,
   "id": "dd09595b",
   "metadata": {},
   "outputs": [],
   "source": []
  },
  {
   "cell_type": "code",
   "execution_count": null,
   "id": "5df06f91",
   "metadata": {},
   "outputs": [],
   "source": []
  },
  {
   "cell_type": "code",
   "execution_count": null,
   "id": "7aba0e6d",
   "metadata": {},
   "outputs": [],
   "source": []
  },
  {
   "cell_type": "code",
   "execution_count": null,
   "id": "70b3b635",
   "metadata": {},
   "outputs": [],
   "source": []
  },
  {
   "cell_type": "code",
   "execution_count": null,
   "id": "a2d5f053",
   "metadata": {},
   "outputs": [],
   "source": []
  },
  {
   "cell_type": "code",
   "execution_count": null,
   "id": "688f5b6c",
   "metadata": {},
   "outputs": [],
   "source": []
  },
  {
   "cell_type": "code",
   "execution_count": null,
   "id": "413432d3",
   "metadata": {},
   "outputs": [],
   "source": []
  },
  {
   "cell_type": "code",
   "execution_count": null,
   "id": "68a3ffde",
   "metadata": {},
   "outputs": [],
   "source": []
  },
  {
   "cell_type": "code",
   "execution_count": null,
   "id": "6942ea5e",
   "metadata": {},
   "outputs": [],
   "source": []
  }
 ],
 "metadata": {
  "kernelspec": {
   "display_name": "Python 3",
   "language": "python",
   "name": "python3"
  },
  "language_info": {
   "codemirror_mode": {
    "name": "ipython",
    "version": 3
   },
   "file_extension": ".py",
   "mimetype": "text/x-python",
   "name": "python",
   "nbconvert_exporter": "python",
   "pygments_lexer": "ipython3",
   "version": "3.8.8"
  }
 },
 "nbformat": 4,
 "nbformat_minor": 5
}
