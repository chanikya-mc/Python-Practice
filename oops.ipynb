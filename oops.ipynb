{
 "cells": [
  {
   "cell_type": "markdown",
   "id": "b6785ae2",
   "metadata": {},
   "source": [
    "# class and object"
   ]
  },
  {
   "cell_type": "code",
   "execution_count": 8,
   "id": "6159a6bb",
   "metadata": {},
   "outputs": [
    {
     "name": "stdout",
     "output_type": "stream",
     "text": [
      "hello\n",
      "<class '__main__.computer'>\n"
     ]
    }
   ],
   "source": [
    "class computer:\n",
    "    def conf(self):\n",
    "        print(\"hello\")\n",
    "\n",
    "        \n",
    "com=computer()\n",
    "com.conf()\n",
    "print(type(com))"
   ]
  },
  {
   "cell_type": "code",
   "execution_count": 14,
   "id": "79d2acd2",
   "metadata": {},
   "outputs": [
    {
     "name": "stdout",
     "output_type": "stream",
     "text": [
      "hello\n"
     ]
    }
   ],
   "source": [
    "class computer:\n",
    "    def conf(self):\n",
    "        print(\"hello\")\n",
    "\n",
    "        \n",
    "com=computer()\n",
    "computer.conf(com)\n"
   ]
  },
  {
   "cell_type": "code",
   "execution_count": 9,
   "id": "5f78c9c8",
   "metadata": {},
   "outputs": [
    {
     "name": "stdout",
     "output_type": "stream",
     "text": [
      "run automatically\n",
      "hello my name is chanikya and my age is 22 and my marks in python is 100.000000\n"
     ]
    }
   ],
   "source": [
    "class student:\n",
    "    def __init__(self):\n",
    "        print(\"run automatically\")\n",
    "    \n",
    "    def info(self,name,age,marks):\n",
    "        print(\"hello my name is %s and my age is %d and my marks in python is %f\"%(name,age,marks))\n",
    "        \n",
    "std=student()\n",
    "std.info(\"chanikya\",22,100)\n"
   ]
  },
  {
   "cell_type": "code",
   "execution_count": 25,
   "id": "ea24b313",
   "metadata": {},
   "outputs": [
    {
     "name": "stdout",
     "output_type": "stream",
     "text": [
      "hello my name is chanikya and my age is 22 and my marks in python is 100.00\n",
      "hello my name is chani and my age is 21 and my marks in python is 99.00\n"
     ]
    }
   ],
   "source": [
    "class student:\n",
    "    def __init__(self,name,age,mark):\n",
    "        self.names=name\n",
    "        self.ages=age\n",
    "        self.marks=mark\n",
    "    \n",
    "    def info(self):\n",
    "        print(\"hello my name is %s and my age is %d and my marks in python is %.2f\"%(self.names,self.ages,self.marks))\n",
    "        \n",
    "std1=student(\"chanikya\",22,100)\n",
    "std2=student(\"chani\",21,99)\n",
    "\n",
    "std1.info()\n",
    "std2.info()"
   ]
  },
  {
   "cell_type": "code",
   "execution_count": 11,
   "id": "d7ca6022",
   "metadata": {},
   "outputs": [
    {
     "name": "stdout",
     "output_type": "stream",
     "text": [
      "not same\n",
      "chanikya 100\n",
      "chanikya 22\n"
     ]
    }
   ],
   "source": [
    "class computer:\n",
    "    def __init__(self):\n",
    "        self.name=\"chanikya\"\n",
    "        self.age=22\n",
    "        \n",
    "        \n",
    "    def update(self):\n",
    "        self.age=100\n",
    "    def com(self,c2):\n",
    "        \n",
    "        if self.age==c2.age:\n",
    "            print(\"same\")\n",
    "        else:\n",
    "            print(\"not same\")\n",
    "    \n",
    "    \n",
    "\n",
    "    \n",
    "c1=computer()\n",
    "c2=computer()\n",
    "\n",
    "\n",
    "c1.update()\n",
    "c1.com(c2)\n",
    "\n",
    "\n",
    "print(c1.name,c1.age)\n",
    "\n",
    "print(c2.name,c2.age)"
   ]
  },
  {
   "cell_type": "markdown",
   "id": "f08076a7",
   "metadata": {},
   "source": [
    "# variables\n"
   ]
  },
  {
   "cell_type": "code",
   "execution_count": 51,
   "id": "a2eeb85a",
   "metadata": {},
   "outputs": [
    {
     "name": "stdout",
     "output_type": "stream",
     "text": [
      "audi 10\n",
      "honda 1000\n"
     ]
    }
   ],
   "source": [
    "class car:\n",
    "    def __init__(self):\n",
    "        self.cn=\"honda\"\n",
    "        self.cost=1000\n",
    "        \n",
    "        \n",
    "        \n",
    "c1=car()\n",
    "c2=car()\n",
    "c1.cn=\"audi\"\n",
    "c1.cost=10\n",
    "print(c1.cn,c1.cost)\n",
    "print(c2.cn,c2.cost)"
   ]
  },
  {
   "cell_type": "code",
   "execution_count": 51,
   "id": "197568d7",
   "metadata": {},
   "outputs": [
    {
     "name": "stdout",
     "output_type": "stream",
     "text": [
      "audi 10 10\n",
      "honda 1000 4\n"
     ]
    }
   ],
   "source": [
    "class car:\n",
    "    #class variable\n",
    "    wheels=4\n",
    "    def __init__(self):\n",
    "        self.cn=\"honda\"\n",
    "        self.cost=1000\n",
    "        \n",
    "        \n",
    "        \n",
    "c1=car()\n",
    "c2=car()\n",
    "c1.cn=\"audi\"\n",
    "c1.cost=10\n",
    "c1.wheels=10\n",
    "print(c1.cn,c1.cost,c1.wheels)\n",
    "print(c2.cn,c2.cost,c2.wheels)"
   ]
  },
  {
   "cell_type": "markdown",
   "id": "18df03d7",
   "metadata": {},
   "source": [
    "# method\n"
   ]
  },
  {
   "cell_type": "code",
   "execution_count": 80,
   "id": "e1480e3a",
   "metadata": {},
   "outputs": [
    {
     "name": "stdout",
     "output_type": "stream",
     "text": [
      "50.0\n",
      "mtiet\n",
      "my colage name is mtiet\n"
     ]
    }
   ],
   "source": [
    "class student:\n",
    "    school=\"mtiet\"\n",
    "    def __init__(self,m1,m2,m3):\n",
    "        self.m1=m1\n",
    "        self.m2=m2\n",
    "        self.m3=m3    \n",
    "        \n",
    "    def avg(self):\n",
    "        return (self.m1+self.m2+self.m3)/3\n",
    "    \n",
    "    @classmethod\n",
    "    def info(cls):\n",
    "        return cls.school\n",
    "    @staticmethod\n",
    "    def colage():\n",
    "        print(\"my colage name is mtiet\")\n",
    "        \n",
    "        \n",
    "s1=student(10,20,30)\n",
    "s2=student(40,50,60)\n",
    "print(s2.avg())\n",
    "print(student.info())\n",
    "s1.colage()"
   ]
  },
  {
   "cell_type": "code",
   "execution_count": null,
   "id": "0b0bd233",
   "metadata": {},
   "outputs": [],
   "source": []
  },
  {
   "cell_type": "markdown",
   "id": "44ab0fdd",
   "metadata": {},
   "source": [
    "\n",
    "#inner class\n"
   ]
  },
  {
   "cell_type": "code",
   "execution_count": 90,
   "id": "155da828",
   "metadata": {},
   "outputs": [
    {
     "name": "stdout",
     "output_type": "stream",
     "text": [
      "my name is chanikya and my roll number is 1\n",
      "None\n",
      "laptop brqand is hp and cpu is i5 and ram is 8\n",
      "None\n"
     ]
    }
   ],
   "source": [
    "class std:\n",
    "    def __init__(self,name,roll):\n",
    "        self.name=name\n",
    "        self.roll=roll\n",
    "        self.lap=self.laptop()\n",
    "    def show(self):\n",
    "        print(\"my name is %s and my roll number is %d\"%(self.name,self.roll))\n",
    "        \n",
    "    class laptop:\n",
    "        def __init__(self):\n",
    "            self.brand=\"hp\"\n",
    "            self.cpu=\"i5\"\n",
    "            self.ram=8\n",
    "        def lapshow(self):\n",
    "            print(\"laptop brqand is %s and cpu is %s and ram is %d\"%(self.brand,self.cpu,self.ram))\n",
    "\n",
    "            \n",
    "s1=std(\"chanikya\",1)\n",
    "s2=std(\"chani\",2)\n",
    "print(s1.show())\n",
    "print(s1.lap.lapshow())\n"
   ]
  },
  {
   "cell_type": "code",
   "execution_count": 10,
   "id": "659da75a",
   "metadata": {},
   "outputs": [
    {
     "name": "stdout",
     "output_type": "stream",
     "text": [
      "this is feature one\n",
      "this is feature two\n",
      "None None\n",
      "__________________\n",
      "this is feature one\n",
      "this is feature two\n",
      "this is feature three\n",
      "this is feature four\n",
      "None None None None\n"
     ]
    }
   ],
   "source": [
    "class A:\n",
    "    def f1(self):\n",
    "        print(\"this is feature one\")\n",
    "    def f2(self):\n",
    "        print(\"this is feature two\")\n",
    "\n",
    "class B(A):\n",
    "    def f3(self):\n",
    "        print(\"this is feature three\")\n",
    "    def f4(self):\n",
    "        print(\"this is feature four\")\n",
    "\n",
    "    \n",
    "a1=A()\n",
    "b1=B()\n",
    "\n",
    "print(a1.f1() ,a1.f2())\n",
    "print(\"__________________\")\n",
    "print(b1.f1(),b1.f2(),b1.f3(),b1.f4())\n",
    "    "
   ]
  },
  {
   "cell_type": "code",
   "execution_count": 92,
   "id": "3c86139a",
   "metadata": {},
   "outputs": [
    {
     "name": "stdout",
     "output_type": "stream",
     "text": [
      "my name is chanikya and my roll number is 1\n",
      "None\n",
      "laptop brqand is hp and cpu is i5 and ram is 8\n",
      "None\n"
     ]
    }
   ],
   "source": [
    "class std:\n",
    "    def __init__(self,name,roll):\n",
    "        self.name=name\n",
    "        self.roll=roll\n",
    "      \n",
    "    def show(self):\n",
    "        print(\"my name is %s and my roll number is %d\"%(self.name,self.roll))\n",
    "        \n",
    "    class laptop:\n",
    "        def __init__(self):\n",
    "            self.brand=\"hp\"\n",
    "            self.cpu=\"i5\"\n",
    "            self.ram=8\n",
    "        def lapshow(self):\n",
    "            print(\"laptop brqand is %s and cpu is %s and ram is %d\"%(self.brand,self.cpu,self.ram))\n",
    "\n",
    "            \n",
    "s1=std(\"chanikya\",1)\n",
    "s2=std(\"chani\",2)\n",
    "lap=std.laptop()\n",
    "print(s1.show())\n",
    "print(lap.lapshow())\n"
   ]
  },
  {
   "cell_type": "markdown",
   "id": "847b17f0",
   "metadata": {},
   "source": [
    "Sinlge level Inheritance"
   ]
  },
  {
   "cell_type": "code",
   "execution_count": 12,
   "id": "3f74f69c",
   "metadata": {},
   "outputs": [
    {
     "name": "stdout",
     "output_type": "stream",
     "text": [
      "this is feature one\n",
      "this is feature two\n",
      "None None\n",
      "__________________\n",
      "this is feature one\n",
      "this is feature two\n",
      "this is feature three\n",
      "this is feature four\n",
      "None None None None\n"
     ]
    }
   ],
   "source": [
    "class A:\n",
    "    def f1(self):\n",
    "        print(\"this is feature one\")\n",
    "    def f2(self):\n",
    "        print(\"this is feature two\")\n",
    "\n",
    "class B(A):\n",
    "    def f3(self):\n",
    "        print(\"this is feature three\")\n",
    "    def f4(self):\n",
    "        print(\"this is feature four\")\n",
    "\n",
    "    \n",
    "a1=A()\n",
    "b1=B()\n",
    "\n",
    "print(a1.f1() ,a1.f2())\n",
    "print(\"__________________\")\n",
    "print(b1.f1(),b1.f2(),b1.f3(),b1.f4())\n",
    "    "
   ]
  },
  {
   "cell_type": "code",
   "execution_count": null,
   "id": "0c80b835",
   "metadata": {},
   "outputs": [],
   "source": []
  },
  {
   "cell_type": "markdown",
   "id": "06b7a8bd",
   "metadata": {},
   "source": [
    "Mutilevel Inheritance"
   ]
  },
  {
   "cell_type": "code",
   "execution_count": 15,
   "id": "7767027c",
   "metadata": {},
   "outputs": [
    {
     "name": "stdout",
     "output_type": "stream",
     "text": [
      "this is feature one\n",
      "this is feature two\n",
      "None None\n",
      "__________________\n",
      "this is feature one\n",
      "this is feature two\n",
      "this is feature three\n",
      "this is feature four\n",
      "this is feature five\n",
      "this is feature six\n"
     ]
    },
    {
     "data": {
      "text/plain": [
       "(None, None, None, None, None, None)"
      ]
     },
     "execution_count": 15,
     "metadata": {},
     "output_type": "execute_result"
    }
   ],
   "source": [
    "class A:\n",
    "    def f1(self):\n",
    "        print(\"this is feature one\")\n",
    "    def f2(self):\n",
    "        print(\"this is feature two\")\n",
    "\n",
    "class B(A):\n",
    "    def f3(self):\n",
    "        print(\"this is feature three\")\n",
    "    def f4(self):\n",
    "        print(\"this is feature four\")\n",
    "class C(B):\n",
    "    def f5(self):\n",
    "        print(\"this is feature five\")\n",
    "    def f6(self):\n",
    "        print(\"this is feature six\")\n",
    "    \n",
    "a1=A()\n",
    "b1=B()\n",
    "c=C()\n",
    "\n",
    "print(a1.f1() ,a1.f2())\n",
    "print(\"__________________\")\n",
    "c.f1(),c.f2(),c.f3(),c.f4(),c.f5(),c.f6()\n",
    "    "
   ]
  },
  {
   "cell_type": "code",
   "execution_count": null,
   "id": "8ae265c6",
   "metadata": {},
   "outputs": [],
   "source": []
  },
  {
   "cell_type": "markdown",
   "id": "6de4e908",
   "metadata": {},
   "source": [
    "mutliple Inheritance"
   ]
  },
  {
   "cell_type": "code",
   "execution_count": 16,
   "id": "90506fda",
   "metadata": {},
   "outputs": [
    {
     "name": "stdout",
     "output_type": "stream",
     "text": [
      "this is feature one\n",
      "this is feature two\n",
      "None None\n",
      "__________________\n",
      "this is feature one\n",
      "this is feature two\n",
      "this is feature three\n",
      "this is feature four\n",
      "this is feature five\n",
      "this is feature six\n"
     ]
    },
    {
     "data": {
      "text/plain": [
       "(None, None, None, None, None, None)"
      ]
     },
     "execution_count": 16,
     "metadata": {},
     "output_type": "execute_result"
    }
   ],
   "source": [
    "class A:\n",
    "    def f1(self):\n",
    "        print(\"this is feature one\")\n",
    "    def f2(self):\n",
    "        print(\"this is feature two\")\n",
    "\n",
    "class B:\n",
    "    def f3(self):\n",
    "        print(\"this is feature three\")\n",
    "    def f4(self):\n",
    "        print(\"this is feature four\")\n",
    "class C(A,B):\n",
    "    def f5(self):\n",
    "        print(\"this is feature five\")\n",
    "    def f6(self):\n",
    "        print(\"this is feature six\")\n",
    "    \n",
    "a1=A()\n",
    "b1=B()\n",
    "c=C()\n",
    "\n",
    "print(a1.f1() ,a1.f2())\n",
    "print(\"__________________\")\n",
    "c.f1(),c.f2(),c.f3(),c.f4(),c.f5(),c.f6()\n",
    "    "
   ]
  },
  {
   "cell_type": "code",
   "execution_count": null,
   "id": "663817c3",
   "metadata": {},
   "outputs": [],
   "source": []
  },
  {
   "cell_type": "markdown",
   "id": "eaa83e5f",
   "metadata": {},
   "source": [
    "constructor in inheritance"
   ]
  },
  {
   "cell_type": "code",
   "execution_count": 21,
   "id": "d372e0b0",
   "metadata": {
    "scrolled": true
   },
   "outputs": [
    {
     "name": "stdout",
     "output_type": "stream",
     "text": [
      "this is init method in class A\n",
      "this is a init menthod in class B\n",
      "this is feature one\n",
      "this is feature two\n",
      "this is feature three\n",
      "this is feature four\n",
      "None None None None\n"
     ]
    }
   ],
   "source": [
    "class A:\n",
    "    def __init__(self):\n",
    "        print(\"this is init method in class A\")\n",
    "    def f1(self):\n",
    "        print(\"this is feature one\")\n",
    "    def f2(self):\n",
    "        print(\"this is feature two\")\n",
    "\n",
    "class B(A):\n",
    "    def __init__(self):\n",
    "        super().__init__()\n",
    "        print(\"this is a init menthod in class B\")\n",
    "    def f3(self):\n",
    "        print(\"this is feature three\")\n",
    "    def f4(self):\n",
    "        print(\"this is feature four\")\n",
    "    \n",
    "\n",
    "b=B()\n",
    "print(b.f1(),b.f2(),b.f3(),b.f4())\n",
    "    "
   ]
  },
  {
   "cell_type": "code",
   "execution_count": 28,
   "id": "a3a6569f",
   "metadata": {},
   "outputs": [
    {
     "name": "stdout",
     "output_type": "stream",
     "text": [
      "this is init method in class A\n",
      "this is init method in class A\n",
      "this is init method in class C\n",
      "__________________\n",
      "this is feature one\n",
      "this is feature two\n",
      "this is feature three\n",
      "this is feature four\n",
      "this is feature five\n",
      "this is feature six\n"
     ]
    },
    {
     "data": {
      "text/plain": [
       "(None, None, None, None, None, None)"
      ]
     },
     "execution_count": 28,
     "metadata": {},
     "output_type": "execute_result"
    }
   ],
   "source": [
    "class A:\n",
    "    def __init__(self):\n",
    "        print(\"this is init method in class A\")\n",
    "    def f1(self):\n",
    "        print(\"this is feature one\")\n",
    "    def f2(self):\n",
    "        print(\"this is feature two\")\n",
    "\n",
    "class B:\n",
    "    def __init__(self):\n",
    "        print(\"this is init method in class B\")\n",
    "    def f3(self):\n",
    "        print(\"this is feature three\")\n",
    "    def f4(self):\n",
    "        print(\"this is feature four\")\n",
    "class C(A,B):\n",
    "    def __init__(self):\n",
    "        super().__init__()\n",
    "        super().__init__()\n",
    "        print(\"this is init method in class C\")\n",
    "    def f5(self):\n",
    "        print(\"this is feature five\")\n",
    "    def f6(self):\n",
    "        print(\"this is feature six\")\n",
    "    \n",
    "\n",
    "c=C()\n",
    "print(\"__________________\")\n",
    "c.f1(),c.f2(),c.f3(),c.f4(),c.f5(),c.f6()\n",
    "    "
   ]
  },
  {
   "cell_type": "markdown",
   "id": "cef18276",
   "metadata": {},
   "source": [
    "# polymorphisum "
   ]
  },
  {
   "cell_type": "raw",
   "id": "1774751f",
   "metadata": {},
   "source": [
    "1.duck type"
   ]
  },
  {
   "cell_type": "code",
   "execution_count": 31,
   "id": "b64ea675",
   "metadata": {},
   "outputs": [
    {
     "name": "stdout",
     "output_type": "stream",
     "text": [
      "this is duck type\n",
      "None\n"
     ]
    }
   ],
   "source": [
    "class lap:\n",
    "    def code(self,ide):\n",
    "        ide.execute()\n",
    "class B:\n",
    "    def execute(self):\n",
    "        print(\"this is duck type\")\n",
    "\n",
    "ide=B()        \n",
    "lap1=lap()\n",
    "print(lap1.code(ide))"
   ]
  },
  {
   "cell_type": "code",
   "execution_count": null,
   "id": "f2bae42f",
   "metadata": {},
   "outputs": [],
   "source": []
  },
  {
   "cell_type": "markdown",
   "id": "e1e696a3",
   "metadata": {},
   "source": [
    "operator overloading"
   ]
  },
  {
   "cell_type": "code",
   "execution_count": 8,
   "id": "113d7855",
   "metadata": {},
   "outputs": [
    {
     "name": "stdout",
     "output_type": "stream",
     "text": [
      "30\n",
      "30\n",
      "ab\n"
     ]
    }
   ],
   "source": [
    "a=10\n",
    "b=20\n",
    "c=\"a\"\n",
    "d=\"b\"\n",
    "print(a+b)\n",
    "print(int.__add__(a,b))\n",
    "print(str.__add__(c,d))"
   ]
  },
  {
   "cell_type": "code",
   "execution_count": 13,
   "id": "30005711",
   "metadata": {},
   "outputs": [
    {
     "name": "stdout",
     "output_type": "stream",
     "text": [
      "r2 wins\n"
     ]
    }
   ],
   "source": [
    "class std:\n",
    "    def __init__(self,a,b):\n",
    "        self.a=a\n",
    "        self.b=b\n",
    "        self.c=c\n",
    "        self.d=d\n",
    "        \n",
    "    def __gt__(self,other):\n",
    "        \n",
    "        r1=self.a+other.b\n",
    "        r2=self.a+other.b\n",
    "        if r1>r2:\n",
    "            return True\n",
    "            \n",
    "        else:\n",
    "            return False\n",
    "            \n",
    "s1=std(10,20)\n",
    "s2=std(30,40)\n",
    "if s1>s2:\n",
    "    print(\"r1 wins\")\n",
    "else:\n",
    "    print(\"r2 wins\")\n",
    "    \n",
    "\n"
   ]
  },
  {
   "cell_type": "markdown",
   "id": "532c1d09",
   "metadata": {},
   "source": [
    "method overloading"
   ]
  },
  {
   "cell_type": "code",
   "execution_count": null,
   "id": "dbe3392d",
   "metadata": {},
   "outputs": [],
   "source": []
  },
  {
   "cell_type": "code",
   "execution_count": 22,
   "id": "36f0356a",
   "metadata": {},
   "outputs": [
    {
     "name": "stdout",
     "output_type": "stream",
     "text": [
      "1\n"
     ]
    }
   ],
   "source": [
    "class std:\n",
    "    def __init__(self,m1,m2):\n",
    "        self.m1=m1\n",
    "        self.m2=m2\n",
    "    def sum(self,a=None,b=None):\n",
    "        s=0\n",
    "        if a==None and b==None:\n",
    "            s=0\n",
    "        elif b==None:\n",
    "            s=a\n",
    "        else:\n",
    "            s=a+b\n",
    "        return s\n",
    "  \n",
    "            \n",
    "s1=std(10,20)\n",
    "print(s1.sum(1))\n",
    "\n",
    "\n",
    "    \n",
    "\n"
   ]
  },
  {
   "cell_type": "raw",
   "id": "50b9dd59",
   "metadata": {},
   "source": [
    "method overriding"
   ]
  },
  {
   "cell_type": "code",
   "execution_count": 32,
   "id": "0349b676",
   "metadata": {},
   "outputs": [
    {
     "name": "stdout",
     "output_type": "stream",
     "text": [
      "this is B show()\n"
     ]
    }
   ],
   "source": [
    "class A:\n",
    "    def show(self):\n",
    "        print(\"this is A show()\")\n",
    "class B(A):\n",
    "    def show(self):\n",
    "        print(\"this is B show()\")\n",
    "    \n",
    "\n",
    "b=B()\n",
    "\n",
    "\n",
    "b.show()"
   ]
  },
  {
   "cell_type": "code",
   "execution_count": null,
   "id": "f56c586c",
   "metadata": {},
   "outputs": [],
   "source": []
  },
  {
   "cell_type": "markdown",
   "id": "b59eceab",
   "metadata": {},
   "source": [
    "# Encapsulation "
   ]
  },
  {
   "cell_type": "code",
   "execution_count": 2,
   "id": "b091c99f",
   "metadata": {},
   "outputs": [
    {
     "name": "stdout",
     "output_type": "stream",
     "text": [
      "microsoft\n"
     ]
    }
   ],
   "source": [
    "class company:\n",
    "    def __init__(self):\n",
    "        self.compname=\"google\"\n",
    "c1=company()\n",
    "c1.compname=\"microsoft\"\n",
    "print(c1.compname)"
   ]
  },
  {
   "cell_type": "code",
   "execution_count": 10,
   "id": "9f9becc9",
   "metadata": {},
   "outputs": [
    {
     "name": "stdout",
     "output_type": "stream",
     "text": [
      "google\n",
      "None\n",
      "microsoft\n",
      "None\n"
     ]
    }
   ],
   "source": [
    "class company:\n",
    "    def __init__(self):\n",
    "        #make it a private key using __ in front of variable name\n",
    "        self.__compname=\"google\"\n",
    "    def name(self):\n",
    "        print(self.__compname)\n",
    "    def changename(self):\n",
    "        self.__compname=\"microsoft\"\n",
    "        print(self.__compname)\n",
    "        \n",
    "        \n",
    "        \n",
    "c1=company()\n",
    "print(c1.name())\n",
    "print(c1.changename())"
   ]
  },
  {
   "cell_type": "code",
   "execution_count": 57,
   "id": "405b13b8",
   "metadata": {},
   "outputs": [
    {
     "ename": "AttributeError",
     "evalue": "'B' object has no attribute '_B__commpname'",
     "output_type": "error",
     "traceback": [
      "\u001b[1;31m---------------------------------------------------------------------------\u001b[0m",
      "\u001b[1;31mAttributeError\u001b[0m                            Traceback (most recent call last)",
      "Cell \u001b[1;32mIn[57], line 20\u001b[0m\n\u001b[0;32m     18\u001b[0m b\u001b[38;5;241m=\u001b[39mB()\n\u001b[0;32m     19\u001b[0m b\u001b[38;5;241m.\u001b[39mchangename(\u001b[38;5;124m\"\u001b[39m\u001b[38;5;124mchanikya\u001b[39m\u001b[38;5;124m\"\u001b[39m)\n\u001b[1;32m---> 20\u001b[0m \u001b[38;5;28mprint\u001b[39m(b\u001b[38;5;241m.\u001b[39mupdatename())\n",
      "Cell \u001b[1;32mIn[57], line 14\u001b[0m, in \u001b[0;36mB.updatename\u001b[1;34m(self)\u001b[0m\n\u001b[0;32m     13\u001b[0m \u001b[38;5;28;01mdef\u001b[39;00m \u001b[38;5;21mupdatename\u001b[39m(\u001b[38;5;28mself\u001b[39m):\n\u001b[1;32m---> 14\u001b[0m     \u001b[38;5;28mprint\u001b[39m(\u001b[38;5;28mself\u001b[39m\u001b[38;5;241m.\u001b[39m__commpname())\n",
      "\u001b[1;31mAttributeError\u001b[0m: 'B' object has no attribute '_B__commpname'"
     ]
    }
   ],
   "source": [
    "class company:\n",
    "    def __init__(self):\n",
    "        #make it a private key using __ in front of variable name\n",
    "        self.__compname=\"google\"\n",
    "\n",
    "    \n",
    "\n",
    "    def name(self):\n",
    "        print(self.__compname)\n",
    "class B(company):\n",
    "    def changename(self,newname):\n",
    "        self.__compname=newname\n",
    "    def updatename(self):\n",
    "        print(self.__commpname())\n",
    "        \n",
    "        \n",
    "c1=company()\n",
    "b=B()\n",
    "b.changename(\"chanikya\")\n",
    "print(b.updatename())"
   ]
  },
  {
   "cell_type": "code",
   "execution_count": 40,
   "id": "70c0f766",
   "metadata": {},
   "outputs": [
    {
     "name": "stdout",
     "output_type": "stream",
     "text": [
      "mc\n"
     ]
    }
   ],
   "source": [
    "class company:\n",
    "    def __init__(self):\n",
    "        #make it a protected key using _ \n",
    "        self._compname=\"google\"\n",
    "   \n",
    "    def changename(self):\n",
    "        self._compname=\"microsoft\"\n",
    "    def name(self):\n",
    "        print(self._compname)\n",
    "        \n",
    "class B(company):\n",
    "    pass\n",
    "        \n",
    "        \n",
    "c1=company()\n",
    "b=B()\n",
    "b._compname=\"mc\"\n",
    "\n",
    "b.name()"
   ]
  },
  {
   "cell_type": "code",
   "execution_count": 60,
   "id": "8c1ca28e",
   "metadata": {},
   "outputs": [
    {
     "name": "stdout",
     "output_type": "stream",
     "text": [
      "Google\n"
     ]
    }
   ],
   "source": [
    "class Company:\n",
    "    def __init__(self):\n",
    "        # Make it a \"private\" variable using __ in front of the variable name\n",
    "        self.__compname = \"Google\"\n",
    "\n",
    "    def name(self):\n",
    "        print(self.__compname)\n",
    "\n",
    "class B(Company):\n",
    "    def changename(self, new_name):\n",
    "        self.__compname = new_name\n",
    "\n",
    "c1 = Company()\n",
    "b = B()\n",
    "b.changename(\"Microsoft\")  # Call changename with the new name as an argument\n",
    "b.name()  # Print the updated company name\n"
   ]
  },
  {
   "cell_type": "raw",
   "id": "dd1f945e",
   "metadata": {},
   "source": [
    "to access private key out side of classs"
   ]
  },
  {
   "cell_type": "code",
   "execution_count": 62,
   "id": "eac210a4",
   "metadata": {},
   "outputs": [
    {
     "name": "stdout",
     "output_type": "stream",
     "text": [
      "933\n"
     ]
    }
   ],
   "source": [
    "class MyClass:\n",
    "    def __init__(self):\n",
    "        self.__my_var = 42\n",
    "\n",
    "obj = MyClass()\n",
    "# Accessing the name-mangled variable\n",
    "obj._MyClass__my_var=933\n",
    "print(obj._MyClass__my_var)\n"
   ]
  },
  {
   "cell_type": "markdown",
   "id": "403b8bff",
   "metadata": {},
   "source": [
    "# Abstraction "
   ]
  },
  {
   "cell_type": "code",
   "execution_count": 65,
   "id": "7c2b2ada",
   "metadata": {},
   "outputs": [
    {
     "name": "stdout",
     "output_type": "stream",
     "text": [
      "hello\n",
      "None\n"
     ]
    }
   ],
   "source": [
    "from abc import ABC, abstractmethod\n",
    "class comp(ABC):\n",
    "    @abstractmethod\n",
    "    def pp(self):\n",
    "        pass\n",
    "class lap(comp):\n",
    "    def pp(self):\n",
    "        print(\"hello\")\n",
    "l1=lap()\n",
    "print(l1.pp())"
   ]
  },
  {
   "cell_type": "code",
   "execution_count": null,
   "id": "3aa8a72f",
   "metadata": {},
   "outputs": [],
   "source": []
  },
  {
   "cell_type": "code",
   "execution_count": null,
   "id": "ca18dc9c",
   "metadata": {},
   "outputs": [],
   "source": []
  }
 ],
 "metadata": {
  "kernelspec": {
   "display_name": "Python 3 (ipykernel)",
   "language": "python",
   "name": "python3"
  },
  "language_info": {
   "codemirror_mode": {
    "name": "ipython",
    "version": 3
   },
   "file_extension": ".py",
   "mimetype": "text/x-python",
   "name": "python",
   "nbconvert_exporter": "python",
   "pygments_lexer": "ipython3",
   "version": "3.11.3"
  }
 },
 "nbformat": 4,
 "nbformat_minor": 5
}
